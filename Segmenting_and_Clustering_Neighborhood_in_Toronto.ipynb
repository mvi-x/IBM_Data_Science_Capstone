{
 "cells": [
  {
   "cell_type": "markdown",
   "metadata": {},
   "source": [
    "## Scrape the necessary data and transform it into a dataframe"
   ]
  },
  {
   "cell_type": "markdown",
   "metadata": {},
   "source": [
    "### 1. We Scrape Wikipedia to obtain the Postal Codes\n",
    "\n",
    "Wikipedia page: https://en.wikipedia.org/wiki/List_of_postal_codes_of_Canada:_M"
   ]
  },
  {
   "cell_type": "code",
   "execution_count": null,
   "metadata": {},
   "outputs": [],
   "source": [
    "# uncomment the line below to install dependencies\n",
    "# !conda install -y anaconda beautifulsoup4 lxml"
   ]
  },
  {
   "cell_type": "code",
   "execution_count": null,
   "metadata": {},
   "outputs": [],
   "source": [
    "from bs4 import BeautifulSoup\n",
    "import lxml"
   ]
  },
  {
   "cell_type": "code",
   "execution_count": null,
   "metadata": {},
   "outputs": [],
   "source": [
    "# download html file from wikipedia link\n",
    "!wget -O 'postal_codes.html' 'https://en.wikipedia.org/wiki/List_of_postal_codes_of_Canada:_M'"
   ]
  },
  {
   "cell_type": "code",
   "execution_count": null,
   "metadata": {},
   "outputs": [],
   "source": [
    "# open and scrape downloaded html file\n",
    "with open('postal_codes.html') as html_file:\n",
    "    soup = BeautifulSoup(html_file, 'lxml')\n",
    "\n",
    "l = []\n",
    "table = soup.find('table')\n",
    "for tr in table.find_all('tr'):\n",
    "    row = []\n",
    "    for td in tr.find_all('td'):\n",
    "        if td.text =='Not assigned':\n",
    "            row = []\n",
    "            break\n",
    "        row.append(td.text)\n",
    "    l.append(row)"
   ]
  },
  {
   "cell_type": "code",
   "execution_count": null,
   "metadata": {},
   "outputs": [],
   "source": [
    "# import our generated list as a dataframe\n",
    "import pandas as pd\n",
    "df = pd.DataFrame(l, columns=[\"PostalCode\", \"Borough\", \"Neighborhood\"])\n",
    "df"
   ]
  },
  {
   "cell_type": "markdown",
   "metadata": {},
   "source": [
    "### 2. We transform the scraped data into a workable pandas dataframe\n"
   ]
  },
  {
   "cell_type": "code",
   "execution_count": null,
   "metadata": {
    "scrolled": false
   },
   "outputs": [],
   "source": [
    "import numpy as np\n",
    "# data clean-up\n",
    "\n",
    "# Only process the cells that have an assigned borough. Ignore cells with a borough that is Not assigned.\n",
    "df_clean = df.dropna(subset=['Borough']).reset_index(drop=True)\n",
    "\n",
    "# remove line jumps at the end of Neighborhood cell (leftover from scraping)\n",
    "df_clean['Neighborhood'] = df_clean['Neighborhood'].str.replace('\\n', '')\n",
    "\n",
    "# group Neighborhoods with the same postal code\n",
    "df_grouped = df_clean.groupby(['PostalCode', 'Borough'], axis=0).agg(lambda x: ','.join(x.values)).reset_index()\n",
    "\n",
    "# If a cell has a borough but a 'Not assigned' neighborhood, then the neighborhood will be the same as the borough. \n",
    "df_grouped[['Neighborhood']] = np.where(df_grouped[['Neighborhood']] == 'Not assigned', df_grouped[['Borough']], df_grouped[['Neighborhood']])\n",
    "\n",
    "df_grouped"
   ]
  },
  {
   "cell_type": "code",
   "execution_count": null,
   "metadata": {},
   "outputs": [],
   "source": [
    "df_grouped.shape"
   ]
  },
  {
   "cell_type": "markdown",
   "metadata": {},
   "source": [
    "## Obtain coordinates of each Neighborhood with Geocoder Python\n",
    "\n",
    "In order to utilize the Foursquare location data, we need to get the latitude and the longitude coordinates of each neighborhood.\n",
    "\n",
    "We will use the Geocoder Python package: https://geocoder.readthedocs.io/index.html\n",
    "\n",
    "This package can be unreliable. In order to obtain the geographical coordinates of a given postal code (sometimes, it will wrongfully return None). So, in order to make sure that we get the coordinates for all of our neighborhoods, we will run a while loop for each postal code. "
   ]
  },
  {
   "cell_type": "code",
   "execution_count": null,
   "metadata": {},
   "outputs": [],
   "source": [
    "# uncomment the three lines below to install dependencies. If you do, remember to restart the notebook's kernel\n",
    "# !git clone https://github.com/DenisCarriere/geocoder\n",
    "# !cd geocoder && python setup.py install\n",
    "# !cd .. && rm -rf "
   ]
  },
  {
   "cell_type": "raw",
   "metadata": {},
   "source": []
  },
  {
   "cell_type": "code",
   "execution_count": null,
   "metadata": {},
   "outputs": [],
   "source": [
    "import geocoder # import geocoder\n",
    "\n",
    "\n",
    "def lat_long_retriever(postalcode):\n",
    "    lat_lng_coords = None\n",
    "    while(lat_lng_coords is None):\n",
    "        g = geocoder.arcgis('{}, Toronto, Ontario'.format(postalcode))\n",
    "        return g.latlng\n",
    "     \n",
    "# run the lat_long_retriever function on each postal code and create a new column called lat_long\n",
    "df_grouped['lat_long'] = df_grouped['PostalCode'].apply(lambda x : lat_long_retriever(x))\n",
    "\n",
    "df_grouped\n",
    "\n"
   ]
  },
  {
   "cell_type": "code",
   "execution_count": null,
   "metadata": {},
   "outputs": [],
   "source": [
    "# break lat_long column into latitude and longitude columns\n",
    "df_geo = df_grouped.merge(df_grouped['lat_long'].apply(lambda s: pd.Series({'Latitude':s[0], 'Longitude':s[1]})), \n",
    "    left_index=True, right_index=True)\n",
    "df_geo.drop(columns=['lat_long'], inplace=True)\n",
    "\n",
    "df_geo.head()"
   ]
  },
  {
   "cell_type": "code",
   "execution_count": null,
   "metadata": {},
   "outputs": [],
   "source": [
    "df_geo.shape"
   ]
  },
  {
   "cell_type": "markdown",
   "metadata": {},
   "source": [
    "## Explore and cluster the neighborhoods in Toronto. \n",
    "\n",
    "We will work only with boroughs that contain the word Toronto and replicate the same analysis we did for the New York City data and generate maps to visualize the neighborhoods and how they cluster together. "
   ]
  },
  {
   "cell_type": "code",
   "execution_count": null,
   "metadata": {},
   "outputs": [],
   "source": []
  }
 ],
 "metadata": {
  "kernelspec": {
   "display_name": "Python 3",
   "language": "python",
   "name": "python3"
  },
  "language_info": {
   "codemirror_mode": {
    "name": "ipython",
    "version": 3
   },
   "file_extension": ".py",
   "mimetype": "text/x-python",
   "name": "python",
   "nbconvert_exporter": "python",
   "pygments_lexer": "ipython3",
   "version": "3.7.3"
  }
 },
 "nbformat": 4,
 "nbformat_minor": 2
}
